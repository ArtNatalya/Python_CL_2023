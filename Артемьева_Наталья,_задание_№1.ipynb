{
  "cells": [
    {
      "cell_type": "markdown",
      "metadata": {
        "id": "view-in-github",
        "colab_type": "text"
      },
      "source": [
        "<a href=\"https://colab.research.google.com/github/ArtNatalya/Python_CL_2023/blob/main/%D0%90%D1%80%D1%82%D0%B5%D0%BC%D1%8C%D0%B5%D0%B2%D0%B0_%D0%9D%D0%B0%D1%82%D0%B0%D0%BB%D1%8C%D1%8F%2C_%D0%B7%D0%B0%D0%B4%D0%B0%D0%BD%D0%B8%D0%B5_%E2%84%961.ipynb\" target=\"_parent\"><img src=\"https://colab.research.google.com/assets/colab-badge.svg\" alt=\"Open In Colab\"/></a>"
      ]
    },
    {
      "cell_type": "markdown",
      "metadata": {
        "id": "hMk2BhNWyebl"
      },
      "source": [
        "Задание про шкалу душевной боли"
      ]
    },
    {
      "cell_type": "code",
      "execution_count": null,
      "metadata": {
        "colab": {
          "base_uri": "https://localhost:8080/"
        },
        "id": "PFqr3R0V2GbN",
        "outputId": "426096eb-c8ff-41a2-bbfe-105d56d8f9dc"
      },
      "outputs": [
        {
          "output_type": "stream",
          "name": "stdout",
          "text": [
            "Оцените силу вашей душевной боли по шкале от 0 до 10: 100\n",
            "Смерть. Гроб. Кладбище.\n"
          ]
        }
      ],
      "source": [
        "a = float(input('Оцените силу вашей душевной боли по шкале от 0 до 10: '))\n",
        "#Сначала зададим значение для варантов больше 10\n",
        "if a > 10:\n",
        "    print('Смерть. Гроб. Кладбище.')\n",
        "  #Едем дальше. Зададим несколько вариантов для разных значений\n",
        "else:\n",
        "    if a < 0.7 :\n",
        "        print('Кажется, вы испытываете легкое огорчение. Как человек в короткой поездке в метро, забывший дома наушники.')\n",
        "    elif 0.7 <= a <= 4.2:\n",
        "      print('Вы встревожены — почти как человек, которому придется звонить по телефону, и это в эпоху мессенджеров! То самое чувство, когда начинаете нервно репетировать в голове диалог...')\n",
        "    elif 4.3 <= a <= 7.1:\n",
        "      print ( 'Вы очень близки к нервному срыву, прямо как студент в ночь перед экзаменом, накануне которого он был уверен, что успеет выучить все за последнюю ночь... ' )\n",
        "    elif 7.2 <= a <= 8.5:\n",
        "      print ( 'Вы повержены, но не сломлены, почти как человек, который одновременно пропустил утренний автобус, пролил по пути на чистую рубашку чашку кофе и был гоним начальником за пропущенный дедлайн')\n",
        "    elif 8.6 <= a <= 10 :\n",
        "      print ( 'Это не учебная тревога, повторяю, это не учебная тревога ' )"
      ]
    },
    {
      "cell_type": "markdown",
      "metadata": {
        "id": "D22ySD-VR2yt"
      },
      "source": [
        "Задание с коктейлями"
      ]
    },
    {
      "cell_type": "code",
      "execution_count": null,
      "metadata": {
        "colab": {
          "base_uri": "https://localhost:8080/"
        },
        "id": "o425WVWHR6Gm",
        "outputId": "8574b489-4d80-4dad-9ba0-bc5d69cf82f7"
      },
      "outputs": [
        {
          "output_type": "stream",
          "name": "stdout",
          "text": [
            "Сегодня в вашем коктейле будет: ['только чай']\n"
          ]
        }
      ],
      "source": [
        "#пометки тут были сделаны еще в тот момент, когда была паника по поводу того, что все сломалось и пропало, прошу прощения\n",
        "import random\n",
        "\n",
        "cocktails = [\n",
        "    [\"мартини\",\"грейпфрутовый сок\",\"жасмин\",\"тоник\",\"лосось\"],\n",
        "    [\"клубника\",\"какао\",\"мята\",\"марсала\"],\n",
        "    [\"водка\",\"томатный сок\",\"лимонный сок\",\"вустерширский соус\",\"черный перец\",\"сельдерей\",\"лосось\"],\n",
        "    [\"джин\",\"вермут\",\"ликер мараскино\",\"апельсины\",\"коктейльная вишня\",\"лосось\"],\n",
        "    [\"ром\",\"авокадо\",\"сахарный сироп\",\"сливки\",\"лимонный сок\",\"лед\"],\n",
        "    [\"красный вермут\",\"тоник\",\"апельсины\",\"лосось\"],\n",
        "    [\"только чай\"]\n",
        "]\n",
        "\n",
        "# Убираем \"лосось\" из списка коктейлей\n",
        "for cocktail in cocktails:\n",
        "    if \"лосось\" in cocktail:\n",
        "        cocktails.remove(cocktail)\n",
        "\n",
        "# Выбираем случайный коктейль\n",
        "random_cocktail = random.choice(cocktails)\n",
        "\n",
        "# Выводим сообщение о выбранном коктейле\n",
        "print(\"Сегодня в вашем коктейле будет:\", random_cocktail)\n",
        "\n"
      ]
    },
    {
      "cell_type": "markdown",
      "metadata": {
        "id": "kjD4kpHAS2Ff"
      },
      "source": [
        "Задание с открытками"
      ]
    },
    {
      "cell_type": "code",
      "execution_count": null,
      "metadata": {
        "colab": {
          "base_uri": "https://localhost:8080/"
        },
        "id": "j4pQINkKS4qZ",
        "outputId": "6413ffd2-34a0-4c58-cfda-11f85283d672"
      },
      "outputs": [
        {
          "output_type": "stream",
          "name": "stdout",
          "text": [
            "Уникальные города в коллекции:  ['Calgary', 'Moscow', 'Milan', 'Krakow', 'Sydney', 'Murmansk', 'Paris', 'London']\n"
          ]
        }
      ],
      "source": [
        "# Коллекция открыток\n",
        "postcards = {\n",
        "    \"Maria\": \"London\",\n",
        "    \"Lorenzo\": \"Milan\",\n",
        "    \"Oleg\": \"Canberra\",\n",
        "    \"Hans\": \"Calgary\",\n",
        "    \"Mark\": \"Milan\",\n",
        "    \"Alex\": \"Krakow\",\n",
        "    \"Julia\": \"Murmansk\",\n",
        "    \"Petra\": \"Paris\",\n",
        "    \"Ivan\": \"Moscow\"\n",
        "}\n",
        "\n",
        "#Добавляем недостающие карточки\n",
        "postcards [\"Petra\"] = \"Paris\"\n",
        "postcards [\"Ivan\"] = \"Moscow\"\n",
        "\n",
        "#Также нам нужно поправить значение по ключу. Открытка от Олега не из Канберры, а из Сиднея\n",
        "postcards [\"Oleg\"] = \"Sydney\"\n",
        "\n",
        "# Находим все уникальные города\n",
        "unique_cities = set(postcards.values())\n",
        "\n",
        "# Выводим названия уникальных городов\n",
        "print(\"Уникальные города в коллекции: \", list(unique_cities))\n",
        "\n"
      ]
    },
    {
      "cell_type": "code",
      "source": [],
      "metadata": {
        "id": "8adhazwWrPJN"
      },
      "execution_count": null,
      "outputs": []
    }
  ],
  "metadata": {
    "colab": {
      "provenance": [],
      "authorship_tag": "ABX9TyN3kykwTJ8WxXSPPZTpbVU2",
      "include_colab_link": true
    },
    "kernelspec": {
      "display_name": "Python 3",
      "name": "python3"
    },
    "language_info": {
      "name": "python"
    }
  },
  "nbformat": 4,
  "nbformat_minor": 0
}